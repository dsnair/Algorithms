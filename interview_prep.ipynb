{
 "cells": [
  {
   "cell_type": "markdown",
   "metadata": {},
   "source": [
    "# A. Concepts\n",
    "\n",
    "## 1. Python Data Structures\n",
    "\n",
    "1. Integers\n",
    "* Floats\n",
    "* Strings\n",
    "* Boolean\n",
    "* Lists\n",
    "* Tuples\n",
    "* Dictionary\n",
    "* Sets\n",
    "\n",
    "<table>\n",
    "    <tr>\n",
    "        <th>Data</th>\n",
    "        <th>Mutable?</th>\n",
    "        <th>Ordered Items?</th> \n",
    "        <th>Unique Items?</th>\n",
    "        <th>Item Access</th>\n",
    "    </tr>\n",
    "    <tr>\n",
    "        <td>List</td>\n",
    "        <td>Yes</td> \n",
    "        <td>Yes</td>\n",
    "        <td>No</td>\n",
    "        <td>Index</td>\n",
    "    </tr>\n",
    "    <tr>\n",
    "        <td>Tuple</td>\n",
    "        <td>No</td> \n",
    "        <td>Yes</td>\n",
    "        <td>No</td>\n",
    "        <td>Index</td>\n",
    "    </tr>\n",
    "    <tr>\n",
    "        <td>Dictionary</td>\n",
    "        <td>Yes</td> \n",
    "        <td>No</td>\n",
    "        <td>Yes</td>\n",
    "        <td>Key</td>\n",
    "    </tr>\n",
    "    <tr>\n",
    "        <td>Set</td>\n",
    "        <td>Yes</td> \n",
    "        <td>No</td>\n",
    "        <td>Yes</td>\n",
    "        <td>None</td>\n",
    "    </tr>\n",
    "    <tr>\n",
    "        <td>String</td>\n",
    "        <td>No</td> \n",
    "        <td>Yes</td>\n",
    "        <td>No</td>\n",
    "        <td>Index</td>\n",
    "    </tr>\n",
    "</table>\n",
    "\n",
    "\n",
    "## 2. Ternary Operator\n",
    "\n",
    "``truth_statement if condition else false_statement``\n",
    "\n",
    "\n",
    "## 3. Comprehension\n",
    "\n",
    "### List\n",
    "\n",
    "List comprehension is a concise way of creating a list. The syntax is \n",
    "\n",
    "``[expression for item in list if condition]`` \n",
    "\n",
    "Notice ``[`` and ``]`` around the statement indicating that a list will be returned. This is equivalent to\n",
    "\n",
    "``for item in list:  \n",
    "    if condition:  \n",
    "        expression``\n",
    "\n",
    "The if-condition is optional.\n",
    "\n",
    "\n",
    "### Set\n",
    "\n",
    "``{item for item in set if condition}``\n",
    "\n",
    "        \n",
    "### Tuple\n",
    "\n",
    "``tuple(item for item in tuple if condition)``\n",
    "\n",
    "\n",
    "### Dictionary\n",
    "\n",
    "``{key:value for (key, value) in list-of-tuples if condition}``, \n",
    "\n",
    "where list of tuples could be obtained by ``zip(iterable1, iterable2)`` (iterables are lists, tuples, sets) or ``dict.items()``.\n",
    "\n",
    "\n",
    "## 4. Formatted String Literals \n",
    "\n",
    "`` '{0} {1}'.format(arg1, arg2) ``, \n",
    "\n",
    "where args can be any of the 8 data structures listed above."
   ]
  },
  {
   "cell_type": "code",
   "execution_count": 1,
   "metadata": {},
   "outputs": [
    {
     "name": "stdout",
     "output_type": "stream",
     "text": [
      "1 == [1] is False\n",
      "My name is Bond, James Bond!\n"
     ]
    }
   ],
   "source": [
    "print '{} == {} is {}'.format(1, [1], False)\n",
    "print 'My name is {1}, {0} {1}!'.format('James', 'Bond')"
   ]
  },
  {
   "cell_type": "markdown",
   "metadata": {},
   "source": [
    "## 5. Functionals\n",
    "\n",
    "### Lambda\n",
    "\n",
    "Lambda() is small, anonymous function (functions without names). They are disposable functions, i.e. they are used only where they are created.\n",
    "\n",
    "\n",
    "### Map\n",
    "\n",
    "Map() applies a function to *each* item in a sequence (list, tuple, set). The syntax is \n",
    "\n",
    "``map(function, sequence-of-items)``. \n",
    "\n",
    "Great use case for lambda().\n",
    "\n",
    "\n",
    "### Filter\n",
    "\n",
    "Filter() returns a sequence of items (list, tuple, set) that satisfy a given condition. The syntax is\n",
    "\n",
    "``filter(condition, sequence-of-items)``. \n",
    "\n",
    "Great use case for lambda(). Note: **Comprehensions could be used in place of Map() & Filter().**\n",
    "\n",
    "\n",
    "### Reduce\n",
    "\n",
    "Reduce() continually applies a function to a sequence of items (list, tuple, set). It returns a single value. The syntax is\n",
    "\n",
    "``reduce(function, sequence-of-items)``. \n",
    "\n",
    "Great use case for lambda()."
   ]
  },
  {
   "cell_type": "code",
   "execution_count": 2,
   "metadata": {},
   "outputs": [
    {
     "data": {
      "text/plain": [
       "[102.56, 97.7, 99.14, 100.03999999999999]"
      ]
     },
     "execution_count": 2,
     "metadata": {},
     "output_type": "execute_result"
    }
   ],
   "source": [
    "celsius = [39.2, 36.5, 37.3, 37.8]\n",
    "fahrenheit = map(lambda x: (float(9)/5)*x + 32, celsius)\n",
    "fahrenheit"
   ]
  },
  {
   "cell_type": "code",
   "execution_count": 3,
   "metadata": {},
   "outputs": [
    {
     "data": {
      "text/plain": [
       "[0, 2, 8, 34]"
      ]
     },
     "execution_count": 3,
     "metadata": {},
     "output_type": "execute_result"
    }
   ],
   "source": [
    "fib = [0,1,1,2,3,5,8,13,21,34,55]\n",
    "filter(lambda x: x % 2 == 0, fib)"
   ]
  },
  {
   "cell_type": "code",
   "execution_count": 4,
   "metadata": {},
   "outputs": [
    {
     "data": {
      "text/plain": [
       "102"
      ]
     },
     "execution_count": 4,
     "metadata": {},
     "output_type": "execute_result"
    }
   ],
   "source": [
    "f = lambda x,y: x if (x > y) else y\n",
    "reduce(f, [47,11,42,102,13])"
   ]
  },
  {
   "cell_type": "markdown",
   "metadata": {},
   "source": [
    "## 6. Unpacking Lists, Tuples & Sets\n",
    "\n",
    "With an iterable, such as list or tuple:\n",
    "\n",
    "``args = (1, 2, 3)\n",
    "f(*args) -> f(1, 2, 3)``\n",
    "\n",
    "```python\n",
    "print range(*(0, 5)) \n",
    "print range(*[0, 5, 2])  # range(start, end, step)\n",
    "```\n",
    "\n",
    "With a mapping, such as dict:\n",
    "\n",
    "``kwargs = {'a':1, 'b':2, 'c':3}\n",
    "f(**kwargs) -> f(a=1, b=2, c=3)``\n",
    "\n",
    "```python\n",
    "dic = {'a':1, 'b':2}\n",
    "def myFunc(a=0, b=0, c=0):\n",
    "    print(a, b, c)\n",
    "myFunc(**dic)\n",
    "```"
   ]
  },
  {
   "cell_type": "code",
   "execution_count": 5,
   "metadata": {},
   "outputs": [
    {
     "name": "stdout",
     "output_type": "stream",
     "text": [
      "1 2 3 4 5 6\n"
     ]
    }
   ],
   "source": [
    "a, b = [1, 2]\n",
    "c, d = (3, 4)\n",
    "e, f = {5, 6}\n",
    "print a, b, c, d, e, f"
   ]
  },
  {
   "cell_type": "markdown",
   "metadata": {},
   "source": [
    "# B. Common Functions\n",
    "\n",
    "## 1. List\n",
    "\n",
    "* ``[]`` creates empty list\n",
    "* ``[1, 2], [3, 4]`` creates nested list\n",
    "* ``list[start:stop:step]`` slices\n",
    "* ``list1 + list2`` concatenates\n",
    "* ``item in list`` checks membership\n",
    "* ``.append(item)`` appends item to the end of the list\n",
    "* ``.remove(item)`` removes 1st value from list\n",
    "* ``.insert(index, item)`` inserts item to specified index\n",
    "* ``.pop(index)`` inverse of insert\n",
    "* ``.sort()`` sorts\n",
    "* ``.reverse()`` reverses\n",
    "\n",
    "\n",
    "## 2. Tuple\n",
    "\n",
    "* ``()`` creates empty tuple.  ``1,2`` creates tuple.\n",
    "* ``(1, 2), (3, 4)`` creates nested tuple\n",
    "* ``tup[start:stop:step]`` slices\n",
    "* ``tup1 + tup2`` concatenates\n",
    "* ``item in tup`` checks membership\n",
    "\n",
    "\n",
    "## 3. Set\n",
    "\n",
    "* ``set()`` creates empty set\n",
    "* ``{1}, {2}`` creates nested set\n",
    "* ``1 in {1, 2}`` checks membership\n",
    "* ``set1.issubset(set2)`` $A \\subseteq B$\n",
    "* ``set1.issuperset(set2)`` $B \\subseteq A$\n",
    "* ``set1 == set2``\n",
    "* ``set1 | set2`` $A \\cup B$\n",
    "* ``set1 & set2`` $ A \\cap B$\n",
    "* ``set1 - set2`` $A-B$: elements in set1, but NOT in set2\n",
    "* ``set1 ^ set2`` $(A \\cap B)^c$: symmetric difference (xor) \n",
    "* ``.add(item)`` appends item to set\n",
    "* ``.remove(item)`` removes item to set\n",
    "* ``set1.update(set2)`` appends set2 items to set1\n",
    "\n",
    "\n",
    "## 4. Dictionary\n",
    "\n",
    "* ``{}`` creates empty dictionary\n",
    "* ``{'a':1}, {'b':2}`` creates nested dictionary\n",
    "* ``dict(zip(keys, values))`` creates dict from iterable (list, tuple, set) keys and values. ``zip`` creates a list of $(k,v)$ tuples.\n",
    "* ``d[key]`` prints values for key\n",
    "* ``d[key] = value`` inserts/updates value for key\n",
    "* ``.keys()`` produces keys list\n",
    "* ``.values()`` produces values list\n",
    "* ``key in d`` checks if key exists\n",
    "* ``del d[key]`` deletes the key-value pair from dictionary\n",
    "* ``d1.update(d2)`` appends d2 key-value pairs to d1\n",
    "\n",
    "\n",
    "## 5. String\n",
    "\n",
    "* `` '' `` or `` \"\" `` or ``''' '''`` creates empty string. Triple quotes allow line breaks.\n",
    "* ``string[start:stop:step]`` slices\n",
    "* ``str1 + str2`` concatenates\n",
    "* `` 's' in 'string' `` checks membership\n",
    "* ``.lower()`` converts to lowercase\n",
    "* ``.upper()`` converts to uppercase\n",
    "* ``str.split(delimiter=\" \")`` splits str by delimiter, default space\n",
    "* ``separator.join(iterable)`` concatenates strings in iterable (list, tuple, string, dictionary, set) with separator string\n",
    "* ``str.replace(old_string, new_string)`` replaces all occurrences of old_string with new_string\n",
    "* ``str.strip(string)`` removes string from the beginning and the end of str. ``str.lstrip(string)`` removes string only from the beginning. ``str.rstrip(string)`` removes string only from the end.\n",
    "* ``str.startswith(string)`` and ``str.endswith(string)`` checks if str starts with or ends with string\n",
    "* ``str.swapcase()`` swap uppercase with lowercase and vice-versa\n",
    "* ``str.count(substring)`` counts how many times substring occurs in str"
   ]
  },
  {
   "cell_type": "markdown",
   "metadata": {},
   "source": [
    "# C. Exercises\n",
    "\n",
    "* Given a list of integers and an integer $d$, build a multiplication table.\n",
    "\n",
    "Example: [[1, 2, 3], [2, 4, 6], [3, 6, 9]]"
   ]
  },
  {
   "cell_type": "code",
   "execution_count": 6,
   "metadata": {},
   "outputs": [
    {
     "data": {
      "text/plain": [
       "[[1, 2, 3], [2, 4, 6], [3, 6, 9]]"
      ]
     },
     "execution_count": 6,
     "metadata": {},
     "output_type": "execute_result"
    }
   ],
   "source": [
    "li = range(1, 4)\n",
    "d = 3\n",
    "[[l*i for l in li] for i in range(1, d+1)]"
   ]
  },
  {
   "cell_type": "markdown",
   "metadata": {},
   "source": [
    "* Given a list of integers, return a list that only contains even integers from even indices.  \n",
    "\n",
    "Example: If list[2]=2, include. If list[3]=2, exclude"
   ]
  },
  {
   "cell_type": "code",
   "execution_count": 7,
   "metadata": {},
   "outputs": [
    {
     "data": {
      "text/plain": [
       "[10, 18, 78]"
      ]
     },
     "execution_count": 7,
     "metadata": {},
     "output_type": "execute_result"
    }
   ],
   "source": [
    "li = [1,3,5,8,10,13,18,36,78]\n",
    "[x for x in li[::2] if x%2 == 0]"
   ]
  },
  {
   "cell_type": "markdown",
   "metadata": {},
   "source": [
    "* Given a sequence of integers and an integer $d$, perform d-left rotations on the list.\n",
    "\n",
    "Example: If d=2 and list=[1,2,3,4,5], then 2-left rotation is [3,4,5,1,2]"
   ]
  },
  {
   "cell_type": "code",
   "execution_count": 8,
   "metadata": {},
   "outputs": [
    {
     "data": {
      "text/plain": [
       "[3, 4, 5, 1, 2]"
      ]
     },
     "execution_count": 8,
     "metadata": {},
     "output_type": "execute_result"
    }
   ],
   "source": [
    "li = range(1, 6)\n",
    "d = 2\n",
    "li[d:] + li[:d]"
   ]
  },
  {
   "cell_type": "markdown",
   "metadata": {},
   "source": [
    "* Given three integers $x$, $y$ and $d$, create ordered pairs $(i,j)$ such that $0 \\le i \\le x$, $0 \\le j \\le y$, and $i+j \\ne d$."
   ]
  },
  {
   "cell_type": "code",
   "execution_count": 9,
   "metadata": {},
   "outputs": [
    {
     "data": {
      "text/plain": [
       "[(0, 0),\n",
       " (0, 1),\n",
       " (0, 2),\n",
       " (0, 3),\n",
       " (1, 0),\n",
       " (1, 1),\n",
       " (1, 2),\n",
       " (2, 0),\n",
       " (2, 1),\n",
       " (2, 3)]"
      ]
     },
     "execution_count": 9,
     "metadata": {},
     "output_type": "execute_result"
    }
   ],
   "source": [
    "x = 2\n",
    "y = 3\n",
    "d = 4\n",
    "list1 = range(0, x+1)\n",
    "list2 = range(0, y+1)\n",
    "[(i,j) for i in list1 for j in list2 if i+j != d]"
   ]
  },
  {
   "cell_type": "markdown",
   "metadata": {},
   "source": [
    "* Capitalize the first letter in first and last names.\n",
    "\n",
    "Example: Convert \"divya nair\" to \"Divya Nair\""
   ]
  },
  {
   "cell_type": "code",
   "execution_count": 10,
   "metadata": {},
   "outputs": [
    {
     "data": {
      "text/plain": [
       "'Divya Nair'"
      ]
     },
     "execution_count": 10,
     "metadata": {},
     "output_type": "execute_result"
    }
   ],
   "source": [
    "\"divya nair\".title()\n",
    "#\"divya nair\".capitalize()"
   ]
  },
  {
   "cell_type": "code",
   "execution_count": 11,
   "metadata": {},
   "outputs": [
    {
     "data": {
      "text/plain": [
       "'Divya Nair'"
      ]
     },
     "execution_count": 11,
     "metadata": {},
     "output_type": "execute_result"
    }
   ],
   "source": [
    "name = \"divya nair\"\n",
    "li = name.split(\" \")\n",
    "li = [li[i].capitalize() for i in range(0, len(li))]\n",
    "\" \".join(li)"
   ]
  },
  {
   "cell_type": "markdown",
   "metadata": {},
   "source": [
    "* Given a string and a natural number $d$, wrap the string into a paragraph of width $d$."
   ]
  },
  {
   "cell_type": "code",
   "execution_count": 12,
   "metadata": {},
   "outputs": [
    {
     "name": "stdout",
     "output_type": "stream",
     "text": [
      "ABCD\n",
      "EFGH\n",
      "IJKL\n",
      "IMNO\n",
      "QRST\n",
      "UVWX\n",
      "YZ\n"
     ]
    }
   ],
   "source": [
    "s = \"ABCDEFGHIJKLIMNOQRSTUVWXYZ\"\n",
    "d = 4\n",
    "i = 0\n",
    "while (i < len(s)): \n",
    "    print s[i:i+d]\n",
    "    i = i+d"
   ]
  },
  {
   "cell_type": "markdown",
   "metadata": {},
   "source": [
    "* Find all the vowels in a string."
   ]
  },
  {
   "cell_type": "code",
   "execution_count": 13,
   "metadata": {},
   "outputs": [
    {
     "data": {
      "text/plain": [
       "['i', 'a', 'a', 'i']"
      ]
     },
     "execution_count": 13,
     "metadata": {},
     "output_type": "execute_result"
    }
   ],
   "source": [
    "string = \"divya nair\"\n",
    "vowels = [\"a\", \"e\", \"i\", \"o\", \"u\"]\n",
    "[char for char in string if char in vowels]"
   ]
  },
  {
   "cell_type": "markdown",
   "metadata": {},
   "source": [
    "* Calculate $n!$"
   ]
  },
  {
   "cell_type": "code",
   "execution_count": 14,
   "metadata": {
    "scrolled": true
   },
   "outputs": [
    {
     "data": {
      "text/plain": [
       "6"
      ]
     },
     "execution_count": 14,
     "metadata": {},
     "output_type": "execute_result"
    }
   ],
   "source": [
    "n = 3\n",
    "reduce(lambda x,y: x*y, range(1, n+1))"
   ]
  },
  {
   "cell_type": "markdown",
   "metadata": {},
   "source": [
    "* Given an sequence of $n$ integers, calculate the sum of its elements."
   ]
  },
  {
   "cell_type": "code",
   "execution_count": 15,
   "metadata": {},
   "outputs": [
    {
     "name": "stdout",
     "output_type": "stream",
     "text": [
      "[8, 2, 4]\n"
     ]
    },
    {
     "data": {
      "text/plain": [
       "'The sum is 14'"
      ]
     },
     "execution_count": 15,
     "metadata": {},
     "output_type": "execute_result"
    }
   ],
   "source": [
    "import random\n",
    "size = 3\n",
    "# Generate 3 random numbers between [1, 10]\n",
    "numList = [random.randint(1,10) for i in range(0, size)]\n",
    "print numList\n",
    "\"The sum is {}\".format(reduce(lambda x,y: x+y, numList))"
   ]
  },
  {
   "cell_type": "code",
   "execution_count": 16,
   "metadata": {},
   "outputs": [
    {
     "data": {
      "text/plain": [
       "[4, 2, 8]"
      ]
     },
     "execution_count": 16,
     "metadata": {},
     "output_type": "execute_result"
    }
   ],
   "source": [
    "# Shuffle item position in numList\n",
    "random.shuffle(numList)\n",
    "numList"
   ]
  },
  {
   "cell_type": "code",
   "execution_count": 17,
   "metadata": {},
   "outputs": [
    {
     "name": "stdout",
     "output_type": "stream",
     "text": [
      "[8, 4]\n"
     ]
    }
   ],
   "source": [
    "# Randomly sample 2 items from numList\n",
    "print random.sample(numList, 2)"
   ]
  },
  {
   "cell_type": "markdown",
   "metadata": {},
   "source": [
    "* Given a sequence of $n$ integers, $a_0, a_1, \\cdots, a_{n-1}$, and a natural number $d$, print all pairs of $(i, j)$ such that $a_i + a_j$ is divisible by $d$."
   ]
  },
  {
   "cell_type": "code",
   "execution_count": 18,
   "metadata": {},
   "outputs": [
    {
     "data": {
      "text/plain": [
       "[(0, 2),\n",
       " (0, 5),\n",
       " (1, 1),\n",
       " (1, 3),\n",
       " (2, 0),\n",
       " (2, 4),\n",
       " (3, 1),\n",
       " (3, 3),\n",
       " (4, 2),\n",
       " (4, 5),\n",
       " (5, 0),\n",
       " (5, 4)]"
      ]
     },
     "execution_count": 18,
     "metadata": {},
     "output_type": "execute_result"
    }
   ],
   "source": [
    "n = 6\n",
    "d = 3\n",
    "a = [1, 3, 2, 6, 1, 2]\n",
    "sums = [(a[i] + a[j], i, j) for i in range(0, len(a)) for j in range(0, len(a))]\n",
    "[(s[1], s[2]) for s in sums if s[0]%d==0]"
   ]
  },
  {
   "cell_type": "markdown",
   "metadata": {},
   "source": [
    "* Return $n$ numbers in the Fibonacci sequence."
   ]
  },
  {
   "cell_type": "code",
   "execution_count": 19,
   "metadata": {},
   "outputs": [
    {
     "data": {
      "text/plain": [
       "[0, 1, 1, 2, 3, 5, 8, 13]"
      ]
     },
     "execution_count": 19,
     "metadata": {},
     "output_type": "execute_result"
    }
   ],
   "source": [
    "fib = [0,1]\n",
    "n = 6\n",
    "for i in range(0, n):\n",
    "    fib.append(fib[i] + fib[i+1])\n",
    "fib"
   ]
  },
  {
   "cell_type": "markdown",
   "metadata": {},
   "source": [
    "* Given 4 coin denominations (1c, 5c, 10c, 25c) and a dollar amount, find the best way to express that amount using least number of coins.\n",
    "\n",
    "Example: $2.12 = (25c, 8), (10c, 1), (2c, 2)"
   ]
  },
  {
   "cell_type": "code",
   "execution_count": 20,
   "metadata": {},
   "outputs": [
    {
     "name": "stdout",
     "output_type": "stream",
     "text": [
      "2 quarters, 0 dimes, 0 nickels, 0 pennies\n"
     ]
    }
   ],
   "source": [
    "amount = 0.50\n",
    "dollar, cent = str(amount).split(\".\")\n",
    "cent = cent+'0' if len(cent)==1 else cent  # ternary operation\n",
    "amount = int(dollar+cent)\n",
    "deno = [25, 10, 5, 1]\n",
    "coins = []\n",
    "for d in deno:\n",
    "    coins.append(amount/d)\n",
    "    amount = amount%d\n",
    "    \n",
    "print '{} quarters, {} dimes, {} nickels, {} pennies'.format(*coins)  # unpacking list"
   ]
  },
  {
   "cell_type": "markdown",
   "metadata": {},
   "source": [
    "* Output the first $d$ rows of Pascal's triangle, where $2 \\le d \\le 10$."
   ]
  },
  {
   "cell_type": "code",
   "execution_count": 21,
   "metadata": {},
   "outputs": [
    {
     "name": "stdout",
     "output_type": "stream",
     "text": [
      "[1]\n",
      "[1, 1]\n",
      "[1, 2, 1]\n",
      "[1, 3, 3, 1]\n",
      "[1, 4, 6, 4, 1]\n"
     ]
    }
   ],
   "source": [
    "row = [1]\n",
    "print row\n",
    "d = 4\n",
    "while (len(row) <= d):\n",
    "    row = [1] + [row[i] + row[i+1] for i in range(0, len(row)-1)] + [1]\n",
    "    print row"
   ]
  },
  {
   "cell_type": "markdown",
   "metadata": {},
   "source": [
    "* At bus stop #1, 10 passengers got on the bus and 6 passengers got off the bus. Then, at stop #2, 5 passengers got on and 4 passengers got off. How many passengers are remaining in the bus?"
   ]
  },
  {
   "cell_type": "code",
   "execution_count": 22,
   "metadata": {},
   "outputs": [
    {
     "data": {
      "text/plain": [
       "5"
      ]
     },
     "execution_count": 22,
     "metadata": {},
     "output_type": "execute_result"
    }
   ],
   "source": [
    "stops = [[10, 6], [5, 4]]\n",
    "remaining = [x[0]-x[1] for x in stops]\n",
    "reduce(lambda x,y: x+y, remaining)"
   ]
  },
  {
   "cell_type": "markdown",
   "metadata": {},
   "source": [
    "* Find the 2nd largest number in the list."
   ]
  },
  {
   "cell_type": "code",
   "execution_count": 23,
   "metadata": {},
   "outputs": [
    {
     "data": {
      "text/plain": [
       "3"
      ]
     },
     "execution_count": 23,
     "metadata": {},
     "output_type": "execute_result"
    }
   ],
   "source": [
    "num = [2, 3, 6, 6, -5]\n",
    "noRep = list(set(num))\n",
    "noRep.sort()\n",
    "noRep.pop(-2)"
   ]
  },
  {
   "cell_type": "markdown",
   "metadata": {},
   "source": [
    "* Draw a rectangle of a given length and width."
   ]
  },
  {
   "cell_type": "code",
   "execution_count": 24,
   "metadata": {},
   "outputs": [
    {
     "name": "stdout",
     "output_type": "stream",
     "text": [
      "* * * \n",
      "* * * \n"
     ]
    }
   ],
   "source": [
    "length = 2\n",
    "width = 3\n",
    "for l in range(0, length):\n",
    "    print '* ' * width"
   ]
  },
  {
   "cell_type": "markdown",
   "metadata": {},
   "source": [
    "* Calculate the sum of all the odd numbers in a list."
   ]
  },
  {
   "cell_type": "code",
   "execution_count": 25,
   "metadata": {},
   "outputs": [
    {
     "name": "stdout",
     "output_type": "stream",
     "text": [
      "[0, 1, 2, -3]\n",
      "[1, -3]\n"
     ]
    },
    {
     "data": {
      "text/plain": [
       "-2"
      ]
     },
     "execution_count": 25,
     "metadata": {},
     "output_type": "execute_result"
    }
   ],
   "source": [
    "num = [0, 1, 2, -3]\n",
    "print num\n",
    "odd = filter(lambda x: x%2 != 0, num)\n",
    "print odd\n",
    "reduce(lambda x,y: x+y, odd)"
   ]
  }
 ],
 "metadata": {
  "kernelspec": {
   "display_name": "Python 2",
   "language": "python",
   "name": "python2"
  },
  "language_info": {
   "codemirror_mode": {
    "name": "ipython",
    "version": 2
   },
   "file_extension": ".py",
   "mimetype": "text/x-python",
   "name": "python",
   "nbconvert_exporter": "python",
   "pygments_lexer": "ipython2",
   "version": "2.7.14"
  }
 },
 "nbformat": 4,
 "nbformat_minor": 2
}
