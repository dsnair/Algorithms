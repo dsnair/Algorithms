{
 "cells": [
  {
   "cell_type": "markdown",
   "metadata": {},
   "source": [
    "# Concepts\n",
    "\n",
    "## 1. Python Data Structures\n",
    "\n",
    "1. Integers\n",
    "* Floats\n",
    "* Strings\n",
    "* Boolean\n",
    "* Lists\n",
    "* Tuples\n",
    "* Dictionary\n",
    "* Sets\n",
    "\n",
    "<table>\n",
    "  <tr>\n",
    "    <th>Data</th>\n",
    "    <th>Mutable?</th>\n",
    "    <th>Ordered Items?</th> \n",
    "    <th>Unique Items?</th>\n",
    "    <th>Item Access</th>\n",
    "  </tr>\n",
    "  <tr>\n",
    "    <td>List</td>\n",
    "    <td>Yes</td> \n",
    "    <td>Yes</td>\n",
    "    <td>No</td>\n",
    "    <td>Index</td>\n",
    "  </tr>\n",
    "  <tr>\n",
    "    <td>Tuple</td>\n",
    "    <td>No</td> \n",
    "    <td>Yes</td>\n",
    "    <td>No</td>\n",
    "    <td>Index</td>\n",
    "  </tr>\n",
    "  <tr>\n",
    "    <td>Dictionary</td>\n",
    "    <td>Yes</td> \n",
    "    <td>No</td>\n",
    "    <td>Yes</td>\n",
    "    <td>Key</td>\n",
    "  </tr>\n",
    "  <tr>\n",
    "    <td>Set</td>\n",
    "    <td>No</td> \n",
    "    <td>No</td>\n",
    "    <td>Yes</td>\n",
    "    <td>None</td>\n",
    "  </tr>\n",
    "</table>\n",
    "\n",
    "[Reference](https://en.wikiversity.org/wiki/Python_Programming)\n",
    "\n",
    "## 2. Ternary Operator\n",
    "\n",
    "The syntax is \n",
    "\n",
    "``truth_statement if(condition) else false_statement``\n",
    "\n",
    "\n",
    "## 3. List Comprehension\n",
    "\n",
    "List comprehension is a concise way of creating a list. The syntax is \n",
    "\n",
    "``[expression for(item in list) if(condition)]`` \n",
    "\n",
    "Notice ``[`` and ``]`` around the statement indicating that a list will be returned. This is equivalent to\n",
    "\n",
    "``for item in list:  \n",
    "    if condition:  \n",
    "        expression``\n",
    "\n",
    "        \n",
    "## 4. Unpacking\n",
    "\n",
    "With an iterable, such as list or tuple:\n",
    "\n",
    "``args = (1,2,3)\n",
    "f(*args) -> f(1,2,3)``\n",
    "\n",
    "With a mapping, such as dict:\n",
    "\n",
    "``kwargs = {\"a\":1, \"b\":2, \"c\":3}\n",
    "f(**kwargs) -> f(a=1, b=2, c=3)``"
   ]
  },
  {
   "cell_type": "code",
   "execution_count": 1,
   "metadata": {},
   "outputs": [
    {
     "name": "stdout",
     "output_type": "stream",
     "text": [
      "[0, 1, 2]\n",
      "[0, 1, 2]\n"
     ]
    }
   ],
   "source": [
    "print range(*(0,3)) \n",
    "print range(*[0,3])"
   ]
  },
  {
   "cell_type": "code",
   "execution_count": 2,
   "metadata": {},
   "outputs": [
    {
     "name": "stdout",
     "output_type": "stream",
     "text": [
      "(1, 2, 0)\n"
     ]
    }
   ],
   "source": [
    "dict = {'a':1, 'b':2}\n",
    "def myFunc(a=0, b=0, c=0):\n",
    "    print(a,b,c)\n",
    "myFunc(**dict)"
   ]
  },
  {
   "cell_type": "code",
   "execution_count": 3,
   "metadata": {},
   "outputs": [
    {
     "name": "stdout",
     "output_type": "stream",
     "text": [
      "1 2 3 4\n"
     ]
    }
   ],
   "source": [
    "a,b = [1,2]\n",
    "x,y = (3,4)\n",
    "print a, b, x, y"
   ]
  },
  {
   "cell_type": "markdown",
   "metadata": {},
   "source": [
    "# Exercises\n",
    "\n",
    "## 1. Lists\n",
    "\n",
    "* ``[]`` creates\n",
    "* ``list[start:stop:step]`` slices\n",
    "* ``list1 + list2`` concatenates\n",
    "* ``item in list`` checks membership\n",
    "* ``.append(item)`` appends item to the end of the list\n",
    "* ``.insert(index, item)`` inserts item to specified index\n",
    "* ``.pop(index)`` inverse of insert\n",
    "* ``.remove(item)`` removes 1st value from list\n",
    "* ``.sort()`` sorts\n",
    "* ``.reverse()`` reverses"
   ]
  },
  {
   "cell_type": "markdown",
   "metadata": {},
   "source": [
    "* Given a list of integers and an integer $n$, build a multiplication table.\n",
    "\n",
    "Example: [[1, 2, 3], [2, 4, 6], [3, 6, 9]]"
   ]
  },
  {
   "cell_type": "code",
   "execution_count": 4,
   "metadata": {},
   "outputs": [
    {
     "data": {
      "text/plain": [
       "[[1, 2, 3], [2, 4, 6], [3, 6, 9]]"
      ]
     },
     "execution_count": 4,
     "metadata": {},
     "output_type": "execute_result"
    }
   ],
   "source": [
    "list=range(1,4)\n",
    "d=3\n",
    "[[l*i for l in list] for i in range(1, d+1)]"
   ]
  },
  {
   "cell_type": "markdown",
   "metadata": {},
   "source": [
    "* Given a list of integers, return a list that only contains even integers from even indices.  \n",
    "\n",
    "Example: If list[2]=2, include. If list[3]=2, exclude"
   ]
  },
  {
   "cell_type": "code",
   "execution_count": 5,
   "metadata": {},
   "outputs": [
    {
     "data": {
      "text/plain": [
       "[10, 18, 78]"
      ]
     },
     "execution_count": 5,
     "metadata": {},
     "output_type": "execute_result"
    }
   ],
   "source": [
    "list=[1,3,5,8,10,13,18,36,78]\n",
    "[x for x in list[::2] if x%2 == 0]"
   ]
  },
  {
   "cell_type": "markdown",
   "metadata": {},
   "source": [
    "* Given an list of integers and an integer $n$, perform left rotations on the list.\n",
    "\n",
    "Example: If n=2 and list=[1,2,3,4,5], then left rotation is [3,4,5,1,2]"
   ]
  },
  {
   "cell_type": "code",
   "execution_count": 6,
   "metadata": {},
   "outputs": [
    {
     "data": {
      "text/plain": [
       "[3, 4, 5, 1, 2]"
      ]
     },
     "execution_count": 6,
     "metadata": {},
     "output_type": "execute_result"
    }
   ],
   "source": [
    "list=range(1,6)\n",
    "n=2\n",
    "list[n:]+list[:n]"
   ]
  },
  {
   "cell_type": "markdown",
   "metadata": {},
   "source": [
    "* Given three integers $x$, $y$ and $n$, create ordered pairs $(i,j)$ such that $0 \\le i \\le x$, $0 \\le j \\le y$, and $i+j \\ne n$."
   ]
  },
  {
   "cell_type": "code",
   "execution_count": 7,
   "metadata": {},
   "outputs": [
    {
     "data": {
      "text/plain": [
       "[(0, 0),\n",
       " (0, 1),\n",
       " (0, 2),\n",
       " (0, 3),\n",
       " (1, 0),\n",
       " (1, 1),\n",
       " (1, 2),\n",
       " (2, 0),\n",
       " (2, 1),\n",
       " (2, 3)]"
      ]
     },
     "execution_count": 7,
     "metadata": {},
     "output_type": "execute_result"
    }
   ],
   "source": [
    "x=2\n",
    "y=3\n",
    "n=4\n",
    "list1 = range(0, x+1)\n",
    "list2 = range(0, y+1)\n",
    "[(i,j) for i in list1 for j in list2 if i+j != n]"
   ]
  },
  {
   "cell_type": "markdown",
   "metadata": {},
   "source": [
    "## 2. Strings\n",
    "\n",
    "* `` '' `` or `` \"\" `` or ``''' '''`` creates. Triple quotes allow line breaks.\n",
    "* ``string[start:stop:step]`` slices\n",
    "* ``str1 + str2`` concatenates\n",
    "* `` 's' in 'string' `` checks membership\n",
    "* ``.lower()`` converts to lowercase\n",
    "* ``.upper()`` converts to uppercase\n",
    "* ``str.split(delimiter=\"\")`` splits str by delimiter, default space\n",
    "* ``separator.join(sequence)`` concatenates strings in sequence (list, tuple, string, dictionary, set) with separator string\n",
    "* ``str.replace(old_string, new_string)`` replaces all occurrences of old_string with new_string\n",
    "* ``str.strip(string)`` removes string from the beginning and the end of str. ``str.lstrip(string)`` removes string only from the beginning. ``str.rstrip(string)`` removes string only from the end.\n",
    "* ``str.startswith(string)`` and ``str.endswith(string)`` checks if str starts with or ends with string\n",
    "* ``str.swapcase()`` swap uppercase with lowercase and vice-versa\n",
    "* ``str.count(substring)`` counts how many times substring occurs in str"
   ]
  },
  {
   "cell_type": "code",
   "execution_count": null,
   "metadata": {},
   "outputs": [],
   "source": []
  }
 ],
 "metadata": {
  "kernelspec": {
   "display_name": "Python 2",
   "language": "python",
   "name": "python2"
  },
  "language_info": {
   "codemirror_mode": {
    "name": "ipython",
    "version": 2
   },
   "file_extension": ".py",
   "mimetype": "text/x-python",
   "name": "python",
   "nbconvert_exporter": "python",
   "pygments_lexer": "ipython2",
   "version": "2.7.14"
  }
 },
 "nbformat": 4,
 "nbformat_minor": 2
}
