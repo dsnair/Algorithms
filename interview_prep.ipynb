{
 "cells": [
  {
   "cell_type": "markdown",
   "metadata": {},
   "source": [
    "# Concepts\n",
    "\n",
    "## 1. Python Data Structures\n",
    "\n",
    "1. Integers\n",
    "* Floats\n",
    "* Strings\n",
    "* Boolean\n",
    "* Lists\n",
    "* Tuples\n",
    "* Dictionary\n",
    "* Sets\n",
    "\n",
    "<table>\n",
    "    <tr>\n",
    "        <th>Data</th>\n",
    "        <th>Mutable?</th>\n",
    "        <th>Ordered Items?</th> \n",
    "        <th>Unique Items?</th>\n",
    "        <th>Item Access</th>\n",
    "    </tr>\n",
    "    <tr>\n",
    "        <td>List</td>\n",
    "        <td>Yes</td> \n",
    "        <td>Yes</td>\n",
    "        <td>No</td>\n",
    "        <td>Index</td>\n",
    "    </tr>\n",
    "    <tr>\n",
    "        <td>Tuple</td>\n",
    "        <td>No</td> \n",
    "        <td>Yes</td>\n",
    "        <td>No</td>\n",
    "        <td>Index</td>\n",
    "    </tr>\n",
    "    <tr>\n",
    "        <td>Dictionary</td>\n",
    "        <td>Yes</td> \n",
    "        <td>No</td>\n",
    "        <td>Yes</td>\n",
    "        <td>Key</td>\n",
    "    </tr>\n",
    "    <tr>\n",
    "        <td>Set</td>\n",
    "        <td>Yes</td> \n",
    "        <td>No</td>\n",
    "        <td>Yes</td>\n",
    "        <td>None</td>\n",
    "    </tr>\n",
    "    <tr>\n",
    "        <td>String</td>\n",
    "        <td>No</td> \n",
    "        <td>Yes</td>\n",
    "        <td>No</td>\n",
    "        <td>Index</td>\n",
    "    </tr>\n",
    "</table>\n",
    "\n",
    "\n",
    "## 2. Ternary Operator\n",
    "\n",
    "``truth_statement if condition else false_statement``\n",
    "\n",
    "\n",
    "## 3. Comprehension\n",
    "\n",
    "### List\n",
    "\n",
    "List comprehension is a concise way of creating a list. The syntax is \n",
    "\n",
    "``[expression for item in list if condition]`` \n",
    "\n",
    "Notice ``[`` and ``]`` around the statement indicating that a list will be returned. This is equivalent to\n",
    "\n",
    "``for item in list:  \n",
    "    if condition:  \n",
    "        expression``\n",
    "        \n",
    "\n",
    "### Set\n",
    "\n",
    "``{item for item in set if condition}``\n",
    "\n",
    "        \n",
    "### Tuple\n",
    "\n",
    "``tuple(item for item in tuple if condition)``\n",
    "\n",
    "\n",
    "### Dictionary\n",
    "\n",
    "``{key:value for (key, value) in zip(iterable1, iterable2) if condition}``, where the iterables are lists, tuples, or sets.\n",
    "\n",
    "\n",
    "## 4. Formatted String Literals \n",
    "\n",
    "`` '{0} {1}'.format(arg1, arg2) ``, where args can be any of the 8 data structures listed above."
   ]
  },
  {
   "cell_type": "code",
   "execution_count": 1,
   "metadata": {},
   "outputs": [
    {
     "name": "stdout",
     "output_type": "stream",
     "text": [
      "1 == [1] is False\n",
      "My name is Bond, James Bond!\n"
     ]
    }
   ],
   "source": [
    "print '{} == {} is {}'.format(1, [1], False)\n",
    "print 'My name is {1}, {0} {1}!'.format('James', 'Bond')"
   ]
  },
  {
   "cell_type": "markdown",
   "metadata": {},
   "source": [
    "## Unpacking Lists, Tuples & Sets\n",
    "\n",
    "<!--\n",
    "With an iterable, such as list or tuple:\n",
    "\n",
    "``args = (1, 2, 3)\n",
    "f(*args) -> f(1, 2, 3)``\n",
    "\n",
    "With a mapping, such as dict:\n",
    "\n",
    "``kwargs = {'a':1, 'b':2, 'c':3}\n",
    "f(**kwargs) -> f(a=1, b=2, c=3)``\n",
    "\n",
    "```python\n",
    "print range(*(0, 5)) \n",
    "print range(*[0, 5, 2])  # start, end, step\n",
    "```\n",
    "\n",
    "```python\n",
    "dic = {'a':1, 'b':2}\n",
    "def myFunc(a=0, b=0, c=0):\n",
    "    print(a, b, c)\n",
    "myFunc(**dic)\n",
    "```\n",
    "-->"
   ]
  },
  {
   "cell_type": "code",
   "execution_count": 2,
   "metadata": {},
   "outputs": [
    {
     "name": "stdout",
     "output_type": "stream",
     "text": [
      "1 2 3 4 5 6\n"
     ]
    }
   ],
   "source": [
    "a, b = [1, 2]\n",
    "c, d = (3, 4)\n",
    "e, f = {5, 6}\n",
    "print a, b, c, d, e, f"
   ]
  },
  {
   "cell_type": "markdown",
   "metadata": {},
   "source": [
    "# Common Functions\n",
    "\n",
    "## 1. List\n",
    "\n",
    "* ``[]`` creates empty list\n",
    "* ``[1, 2], [3, 4]`` creates nested list\n",
    "* ``list[start:stop:step]`` slices\n",
    "* ``list1 + list2`` concatenates\n",
    "* ``item in list`` checks membership\n",
    "* ``.append(item)`` appends item to the end of the list\n",
    "* ``.remove(item)`` removes 1st value from list\n",
    "* ``.insert(index, item)`` inserts item to specified index\n",
    "* ``.pop(index)`` inverse of insert\n",
    "* ``.sort()`` sorts\n",
    "* ``.reverse()`` reverses\n",
    "\n",
    "\n",
    "## 2. Tuple\n",
    "\n",
    "* ``()`` creates empty tuple\n",
    "* ``(1, 2), (3, 4)`` creates nested tuple\n",
    "* ``tup[start:stop:step]`` slices\n",
    "* ``tup1 + tup2`` concatenates\n",
    "* ``item in tup`` checks membership\n",
    "\n",
    "\n",
    "## 3. Set\n",
    "\n",
    "* ``set()`` creates empty set\n",
    "* ``{1}, {2}`` creates nested set\n",
    "* ``1 in {1, 2}`` checks membership\n",
    "* ``set1.issubset(set2)`` $A \\subseteq B$\n",
    "* ``set1.issuperset(set2)`` $B \\subseteq A$\n",
    "* ``set1 == set2``\n",
    "* ``set1 | set2`` $A \\cup B$\n",
    "* ``set1 & set2`` $ A \\cap B$\n",
    "* ``set1 - set2`` $A-B$: elements in set1, but NOT in set2\n",
    "* ``set1 ^ set2`` $(A \\cap B)^c$: symmetric difference (xor) \n",
    "* ``.add(item)`` appends item to set\n",
    "* ``.remove(item)`` removes item to set\n",
    "* ``set1.update(set2)`` appends set2 items to set1\n",
    "\n",
    "\n",
    "## 4. Dictionary\n",
    "\n",
    "* ``{}`` creates empty dictionary\n",
    "* ``{'a':1}, {'b':2}`` creates nested dictionary\n",
    "* ``dict(zip(keys, values))`` creates dict from iterable (list, tuple, set). ``zip`` creates a list of $(k,v)$ tuples.\n",
    "* ``d[key]`` prints values for key\n",
    "* ``d[key] = value`` inserts/updates value for key\n",
    "* ``.keys()`` produces keys list\n",
    "* ``.values()`` produces values list\n",
    "* ``key in d`` checks if key exists\n",
    "* ``del d[key]`` deletes the key-value pair from dictionary\n",
    "* ``d1.update(d2)`` appends d2 key-value pairs to d1\n",
    "\n",
    "\n",
    "## 5. String\n",
    "\n",
    "* `` '' `` or `` \"\" `` or ``''' '''`` creates empty string. Triple quotes allow line breaks.\n",
    "* ``string[start:stop:step]`` slices\n",
    "* ``str1 + str2`` concatenates\n",
    "* `` 's' in 'string' `` checks membership\n",
    "* ``.lower()`` converts to lowercase\n",
    "* ``.upper()`` converts to uppercase\n",
    "* ``str.split(delimiter=\" \")`` splits str by delimiter, default space\n",
    "* ``separator.join(iterable)`` concatenates strings in iterable (list, tuple, string, dictionary, set) with separator string\n",
    "* ``str.replace(old_string, new_string)`` replaces all occurrences of old_string with new_string\n",
    "* ``str.strip(string)`` removes string from the beginning and the end of str. ``str.lstrip(string)`` removes string only from the beginning. ``str.rstrip(string)`` removes string only from the end.\n",
    "* ``str.startswith(string)`` and ``str.endswith(string)`` checks if str starts with or ends with string\n",
    "* ``str.swapcase()`` swap uppercase with lowercase and vice-versa\n",
    "* ``str.count(substring)`` counts how many times substring occurs in str"
   ]
  },
  {
   "cell_type": "markdown",
   "metadata": {},
   "source": [
    "# Exercises\n",
    "\n",
    "* Given a list of integers and an integer $n$, build a multiplication table.\n",
    "\n",
    "Example: [[1, 2, 3], [2, 4, 6], [3, 6, 9]]"
   ]
  },
  {
   "cell_type": "code",
   "execution_count": 3,
   "metadata": {},
   "outputs": [
    {
     "data": {
      "text/plain": [
       "[[1, 2, 3], [2, 4, 6], [3, 6, 9]]"
      ]
     },
     "execution_count": 3,
     "metadata": {},
     "output_type": "execute_result"
    }
   ],
   "source": [
    "li = range(1, 4)\n",
    "d = 3\n",
    "[[l*i for l in li] for i in range(1, d+1)]"
   ]
  },
  {
   "cell_type": "markdown",
   "metadata": {},
   "source": [
    "* Given a list of integers, return a list that only contains even integers from even indices.  \n",
    "\n",
    "Example: If list[2]=2, include. If list[3]=2, exclude"
   ]
  },
  {
   "cell_type": "code",
   "execution_count": 4,
   "metadata": {},
   "outputs": [
    {
     "data": {
      "text/plain": [
       "[10, 18, 78]"
      ]
     },
     "execution_count": 4,
     "metadata": {},
     "output_type": "execute_result"
    }
   ],
   "source": [
    "li = [1,3,5,8,10,13,18,36,78]\n",
    "[x for x in li[::2] if x%2 == 0]"
   ]
  },
  {
   "cell_type": "markdown",
   "metadata": {},
   "source": [
    "* Given an list of integers and an integer $n$, perform left rotations on the list.\n",
    "\n",
    "Example: If n=2 and list=[1,2,3,4,5], then left rotation is [3,4,5,1,2]"
   ]
  },
  {
   "cell_type": "code",
   "execution_count": 5,
   "metadata": {},
   "outputs": [
    {
     "data": {
      "text/plain": [
       "[3, 4, 5, 1, 2]"
      ]
     },
     "execution_count": 5,
     "metadata": {},
     "output_type": "execute_result"
    }
   ],
   "source": [
    "li = range(1, 6)\n",
    "n = 2\n",
    "li[n:] + li[:n]"
   ]
  },
  {
   "cell_type": "markdown",
   "metadata": {},
   "source": [
    "* Given three integers $x$, $y$ and $n$, create ordered pairs $(i,j)$ such that $0 \\le i \\le x$, $0 \\le j \\le y$, and $i+j \\ne n$."
   ]
  },
  {
   "cell_type": "code",
   "execution_count": 6,
   "metadata": {},
   "outputs": [
    {
     "data": {
      "text/plain": [
       "[(0, 0),\n",
       " (0, 1),\n",
       " (0, 2),\n",
       " (0, 3),\n",
       " (1, 0),\n",
       " (1, 1),\n",
       " (1, 2),\n",
       " (2, 0),\n",
       " (2, 1),\n",
       " (2, 3)]"
      ]
     },
     "execution_count": 6,
     "metadata": {},
     "output_type": "execute_result"
    }
   ],
   "source": [
    "x = 2\n",
    "y = 3\n",
    "n = 4\n",
    "list1 = range(0, x+1)\n",
    "list2 = range(0, y+1)\n",
    "[(i,j) for i in list1 for j in list2 if i+j != n]"
   ]
  },
  {
   "cell_type": "markdown",
   "metadata": {},
   "source": [
    "* Capitalize the first letter in first and last names.\n",
    "\n",
    "Example: Convert \"divya nair\" to \"Divya Nair\""
   ]
  },
  {
   "cell_type": "code",
   "execution_count": 7,
   "metadata": {},
   "outputs": [
    {
     "data": {
      "text/plain": [
       "'Divya Nair'"
      ]
     },
     "execution_count": 7,
     "metadata": {},
     "output_type": "execute_result"
    }
   ],
   "source": [
    "\"divya nair\".title()\n",
    "#\"divya nair\".capitalize()"
   ]
  },
  {
   "cell_type": "code",
   "execution_count": 8,
   "metadata": {},
   "outputs": [
    {
     "data": {
      "text/plain": [
       "'Divya Nair'"
      ]
     },
     "execution_count": 8,
     "metadata": {},
     "output_type": "execute_result"
    }
   ],
   "source": [
    "name = \"divya nair\"\n",
    "li = name.split(\" \")\n",
    "li = [li[i].capitalize() for i in range(0, len(li))]\n",
    "\" \".join(li)"
   ]
  },
  {
   "cell_type": "markdown",
   "metadata": {},
   "source": [
    "* Given a string and a natural number $d$, wrap the string into a paragraph of width $d$."
   ]
  },
  {
   "cell_type": "code",
   "execution_count": 9,
   "metadata": {},
   "outputs": [
    {
     "name": "stdout",
     "output_type": "stream",
     "text": [
      "ABCD\n",
      "EFGH\n",
      "IJKL\n",
      "IMNO\n",
      "QRST\n",
      "UVWX\n",
      "YZ\n"
     ]
    }
   ],
   "source": [
    "s = \"ABCDEFGHIJKLIMNOQRSTUVWXYZ\"\n",
    "d = 4\n",
    "i = 0\n",
    "while (i < len(s)): \n",
    "    print s[i:i+d]\n",
    "    i = i+d"
   ]
  },
  {
   "cell_type": "code",
   "execution_count": null,
   "metadata": {},
   "outputs": [],
   "source": []
  }
 ],
 "metadata": {
  "kernelspec": {
   "display_name": "Python 2",
   "language": "python",
   "name": "python2"
  },
  "language_info": {
   "codemirror_mode": {
    "name": "ipython",
    "version": 2
   },
   "file_extension": ".py",
   "mimetype": "text/x-python",
   "name": "python",
   "nbconvert_exporter": "python",
   "pygments_lexer": "ipython2",
   "version": "2.7.14"
  }
 },
 "nbformat": 4,
 "nbformat_minor": 2
}
